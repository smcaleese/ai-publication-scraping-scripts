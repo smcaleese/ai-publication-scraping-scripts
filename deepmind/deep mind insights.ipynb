{
 "cells": [
  {
   "cell_type": "code",
   "execution_count": 1,
   "metadata": {},
   "outputs": [],
   "source": [
    "import pandas as pd\n",
    "df = pd.read_csv('deepmind-papers-and-authors.csv')"
   ]
  },
  {
   "cell_type": "markdown",
   "metadata": {},
   "source": [
    "Find the total number number of authors using the authors column:"
   ]
  },
  {
   "cell_type": "code",
   "execution_count": 2,
   "metadata": {},
   "outputs": [
    {
     "name": "stdout",
     "output_type": "stream",
     "text": [
      "unique authors count: 147\n"
     ]
    }
   ],
   "source": [
    "all_authors = df['authors']\n",
    "unique_authors = set()\n",
    "for author_string in all_authors:\n",
    "    authors = author_string.split(', ')\n",
    "    unique_authors.update(set(authors))\n",
    "\n",
    "print('unique authors count:', len(unique_authors))"
   ]
  },
  {
   "cell_type": "markdown",
   "metadata": {},
   "source": [
    "Find the authors and total number of authors who appear on 2 or more papers:"
   ]
  },
  {
   "cell_type": "code",
   "execution_count": 3,
   "metadata": {},
   "outputs": [
    {
     "name": "stdout",
     "output_type": "stream",
     "text": [
      "Number of authors on two or more papers: 33\n",
      "Authors on two or more papers: [('Sven Gowal', 12), ('Shane Legg', 15), ('Pedro Ortega', 2), ('Timothy Mann', 5), ('Tom Everitt', 8), ('Jonathan Uesato', 9), ('Rudy Bunel', 4), ('Pushmeet Kohli', 16), ('Victoria Krakovna', 6), ('Laurent Orseau', 7), ('Miljan Martic', 7), ('Chongli Qin', 5), ('Marcus Hutter', 2), ('Jasper Snoek', 3), ('Balaji Lakshminarayanan', 7), ('Stuart Armstrong', 2), ('Jan Leike', 7), ('Cosmin Paduraru', 2), ('Todd Hester', 2), ('Po-Sen Huang', 4), ('Robert Stanforth', 6), ('Krishnamurthy (Dj) Dvijotham', 10), ('Alhussein Fawzi', 3), ('Ramana Kumar', 2), ('Emily Fertig', 2), ('J Dillon', 2), (\"Brendan O'Donoghue\", 3), ('Edward Grefenstette', 2), ('Yinlam Chow', 2), ('Mohammad Ghavamzadeh', 2), ('Andrew Trask', 2), ('Dario Amodei', 2), ('Pedro A. Ortega', 2)]\n"
     ]
    }
   ],
   "source": [
    "from collections import defaultdict\n",
    "\n",
    "all_authors = df['authors']\n",
    "paper_count = defaultdict(int)\n",
    "\n",
    "for author_string in all_authors:\n",
    "    authors = author_string.split(', ')\n",
    "    for author in authors:\n",
    "        paper_count[author] += 1\n",
    "\n",
    "selected_authors = [x for x in paper_count.items() if x[1] >= 2]\n",
    "\n",
    "print('Number of authors on two or more papers:', len(selected_authors))\n",
    "print('Authors on two or more papers:', selected_authors)"
   ]
  },
  {
   "cell_type": "markdown",
   "metadata": {},
   "source": [
    "Authors on 3 or more papers:"
   ]
  },
  {
   "cell_type": "code",
   "execution_count": 6,
   "metadata": {},
   "outputs": [
    {
     "name": "stdout",
     "output_type": "stream",
     "text": [
      "Number fo authors on three or more papers: 19\n"
     ]
    }
   ],
   "source": [
    "selected_authors = [x for x in paper_count.items() if x[1] >= 3]\n",
    "print('Number fo authors on three or more papers:', len(selected_authors))"
   ]
  },
  {
   "cell_type": "markdown",
   "metadata": {},
   "source": [
    "Authors on 4 or more papers:"
   ]
  },
  {
   "cell_type": "code",
   "execution_count": 7,
   "metadata": {},
   "outputs": [
    {
     "name": "stdout",
     "output_type": "stream",
     "text": [
      "Number fo authors on four or more papers: 16\n"
     ]
    }
   ],
   "source": [
    "selected_authors = [x for x in paper_count.items() if x[1] >= 4]\n",
    "print('Number fo authors on four or more papers:', len(selected_authors))"
   ]
  }
 ],
 "metadata": {
  "interpreter": {
   "hash": "916dbcbb3f70747c44a77c7bcd40155683ae19c65e1c03b4aa3499c5328201f1"
  },
  "kernelspec": {
   "display_name": "Python 3.8.10 64-bit",
   "language": "python",
   "name": "python3"
  },
  "language_info": {
   "codemirror_mode": {
    "name": "ipython",
    "version": 3
   },
   "file_extension": ".py",
   "mimetype": "text/x-python",
   "name": "python",
   "nbconvert_exporter": "python",
   "pygments_lexer": "ipython3",
   "version": "3.8.10"
  },
  "orig_nbformat": 4
 },
 "nbformat": 4,
 "nbformat_minor": 2
}

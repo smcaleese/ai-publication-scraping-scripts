{
 "cells": [
  {
   "cell_type": "code",
   "execution_count": 35,
   "metadata": {},
   "outputs": [],
   "source": [
    "import matplotlib.pyplot as plt\n",
    "import pandas as pd"
   ]
  },
  {
   "cell_type": "code",
   "execution_count": 37,
   "metadata": {},
   "outputs": [],
   "source": [
    "df = pd.read_csv('alignment-forum-posts-and-authors.csv')"
   ]
  },
  {
   "cell_type": "markdown",
   "metadata": {},
   "source": [
    "Number of posts and unique authors"
   ]
  },
  {
   "cell_type": "code",
   "execution_count": 51,
   "metadata": {},
   "outputs": [
    {
     "name": "stdout",
     "output_type": "stream",
     "text": [
      "Number of posts: 210\n"
     ]
    }
   ],
   "source": [
    "num_posts = len(df['titles'])\n",
    "print(f'Number of posts: {num_posts}')"
   ]
  },
  {
   "cell_type": "code",
   "execution_count": 56,
   "metadata": {},
   "outputs": [
    {
     "name": "stdout",
     "output_type": "stream",
     "text": [
      "Number of unique authors: 151\n"
     ]
    }
   ],
   "source": [
    "unique_authors = []\n",
    "\n",
    "for authors_list in df['authors']:\n",
    "    authors = authors_list.split(',')\n",
    "    unique_authors.extend(authors)\n",
    "\n",
    "print(f'Number of unique authors:', len(set(unique_authors)))"
   ]
  },
  {
   "cell_type": "markdown",
   "metadata": {},
   "source": [
    "Number of authors by post count"
   ]
  },
  {
   "cell_type": "code",
   "execution_count": 59,
   "metadata": {},
   "outputs": [
    {
     "name": "stdout",
     "output_type": "stream",
     "text": [
      "defaultdict(<class 'int'>, {1: 96, 2: 25, 4: 8, 11: 1, 6: 2, 3: 16, 5: 2, 15: 1})\n"
     ]
    }
   ],
   "source": [
    "from collections import defaultdict\n",
    "author_counts = defaultdict(int)\n",
    "\n",
    "for authors_list in df['authors']:\n",
    "    authors = authors_list.split(',')\n",
    "    for author in authors:\n",
    "        author_counts[author] += 1\n",
    "\n",
    "# for k, v in sorted(author_counts.items(), key=lambda item: item[1], reverse=True):\n",
    "#     print(f'{k}: {v}')\n",
    "\n",
    "post_counts = defaultdict(int)\n",
    "\n",
    "for author, count in author_counts.items():\n",
    "    post_counts[count] += 1\n",
    "\n",
    "print(post_counts)\n"
   ]
  },
  {
   "cell_type": "code",
   "execution_count": 60,
   "metadata": {},
   "outputs": [
    {
     "name": "stdout",
     "output_type": "stream",
     "text": [
      "num_posts: [1, 2, 4, 11, 6, 3, 5, 15]\n",
      "counts: [96, 25, 8, 1, 2, 16, 2, 1]\n"
     ]
    },
    {
     "data": {
      "text/plain": [
       "<BarContainer object of 8 artists>"
      ]
     },
     "execution_count": 60,
     "metadata": {},
     "output_type": "execute_result"
    },
    {
     "data": {
      "image/png": "[encoded data removed]",
      "text/plain": [
       "<Figure size 1008x576 with 1 Axes>"
      ]
     },
     "metadata": {
      "needs_background": "light"
     },
     "output_type": "display_data"
    }
   ],
   "source": [
    "fig, ax = plt.subplots(figsize=(14, 8))\n",
    "\n",
    "num_posts = list(post_counts.keys())\n",
    "counts = list(post_counts.values())\n",
    "\n",
    "print(f'num_posts: {num_posts}')\n",
    "print(f'counts: {counts}')\n",
    "\n",
    "xticks = [n for n in range(1, max(num_posts) + 1)]\n",
    "ax.set_xticks(xticks)\n",
    "\n",
    "ax.set_xlabel('Number of posts')\n",
    "ax.set_ylabel('Number of researchers')\n",
    "\n",
    "ax.bar(num_posts, counts)\n"
   ]
  }
 ],
 "metadata": {
  "interpreter": {
   "hash": "916dbcbb3f70747c44a77c7bcd40155683ae19c65e1c03b4aa3499c5328201f1"
  },
  "kernelspec": {
   "display_name": "Python 3.8.10 64-bit",
   "language": "python",
   "name": "python3"
  },
  "language_info": {
   "codemirror_mode": {
    "name": "ipython",
    "version": 3
   },
   "file_extension": ".py",
   "mimetype": "text/x-python",
   "name": "python",
   "nbconvert_exporter": "python",
   "pygments_lexer": "ipython3",
   "version": "3.8.10"
  },
  "orig_nbformat": 4
 },
 "nbformat": 4,
 "nbformat_minor": 2
}

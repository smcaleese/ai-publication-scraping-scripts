{
 "cells": [
  {
   "cell_type": "code",
   "execution_count": 142,
   "metadata": {},
   "outputs": [],
   "source": [
    "import matplotlib.pyplot as plt\n",
    "import pandas as pd\n",
    "from scipy.optimize import curve_fit\n",
    "import numpy as np"
   ]
  },
  {
   "cell_type": "code",
   "execution_count": 143,
   "metadata": {},
   "outputs": [],
   "source": [
    "df = pd.read_csv('alignment-forum-posts-and-authors.csv')"
   ]
  },
  {
   "cell_type": "markdown",
   "metadata": {},
   "source": [
    "Number of posts and unique authors"
   ]
  },
  {
   "cell_type": "code",
   "execution_count": 144,
   "metadata": {},
   "outputs": [
    {
     "name": "stdout",
     "output_type": "stream",
     "text": [
      "Number of posts: 435\n"
     ]
    }
   ],
   "source": [
    "num_posts = len(df['titles'])\n",
    "print(f'Number of posts: {num_posts}')"
   ]
  },
  {
   "cell_type": "code",
   "execution_count": 145,
   "metadata": {},
   "outputs": [
    {
     "name": "stdout",
     "output_type": "stream",
     "text": [
      "Number of unique authors: 198\n"
     ]
    }
   ],
   "source": [
    "unique_authors = []\n",
    "\n",
    "for authors_list in df['authors']:\n",
    "    authors = authors_list.split(',')\n",
    "    for author in authors:\n",
    "        author = author.lower().strip()\n",
    "        unique_authors.append(author)\n",
    "\n",
    "unique_authors = set(unique_authors)\n",
    "\n",
    "print(f'Number of unique authors:', len(unique_authors))"
   ]
  },
  {
   "cell_type": "markdown",
   "metadata": {},
   "source": [
    "Number of authors by post count"
   ]
  },
  {
   "cell_type": "code",
   "execution_count": 146,
   "metadata": {},
   "outputs": [
    {
     "name": "stdout",
     "output_type": "stream",
     "text": [
      "johnswentworth: 32\n",
      "dan hendrycks: 15\n",
      "adam shimi: 15\n",
      "evan hubinger: 14\n",
      "steve byrnes: 12\n",
      "adam jermyn: 11\n",
      "thomasw: 10\n",
      "stuart armstrong: 10\n",
      "leogao: 9\n",
      "marius hobbhahn: 9\n",
      "alex turner: 8\n",
      "richard ngo: 8\n",
      "diffractor: 7\n",
      "vivek hebbar: 7\n",
      "andrew critch: 7\n",
      "nate soares: 6\n",
      "ethan perez: 6\n",
      "paul bricman: 6\n",
      "danielfilan: 6\n",
      "neel nanda: 6\n",
      "sam bowman: 6\n",
      "buck shlegeris: 6\n",
      "oliver sourbut: 6\n",
      "eliezer yudkowsky: 6\n",
      "andreas stuhlmüller: 5\n",
      "daniel kokotajlo: 5\n",
      "themcdouglas: 5\n",
      "avery: 5\n",
      "lucius bushnaq: 5\n",
      "donald hobson: 5\n",
      "oliver zhang: 5\n",
      "nostalgebraist: 5\n",
      "rohin shah: 5\n",
      "jan hendrik kirchner: 5\n",
      "logan riggs smith: 5\n",
      "abram demski: 4\n",
      "zeshen: 4\n",
      "luke h miles: 4\n",
      "tamsin leake: 4\n",
      "quintin pope: 4\n",
      "beth barnes: 4\n",
      "david scott krueger: 4\n",
      "spencer becker-kahn: 4\n",
      "jacob hilton: 4\n",
      "thane ruthenis: 4\n",
      "nick hay: 4\n",
      "tamay besiroglu: 4\n",
      "ramana kumar: 4\n",
      "victoria krakovna: 4\n",
      "cullen_okeefe: 4\n",
      "ian mckenzie: 3\n",
      "connor leahy: 3\n",
      "holdenkarnofsky: 3\n",
      "nora_ammann: 3\n",
      "jesseclifton: 3\n",
      "samuel dylan martin: 3\n",
      "anthony digiovanni: 3\n",
      "charlie steiner: 3\n",
      "jungofthewon: 3\n",
      "david udell: 3\n",
      "janus: 3\n",
      "thomas larsen: 3\n",
      "evan r. murphy: 3\n",
      "jaime sevilla: 3\n",
      "anson ho: 3\n",
      "ivan vendrov: 3\n",
      "rubi j. hudson: 3\n",
      "paul christiano: 3\n",
      "james.lucassen: 2\n",
      "sid black: 2\n",
      "lee sharkey: 2\n",
      "lucas teixeira: 2\n",
      "remember: 2\n",
      "david manheim: 2\n",
      "peter barnett: 2\n",
      "dmz: 2\n",
      "self-embedded agent: 2\n",
      "connall garrod: 2\n",
      "janbrauner: 2\n",
      "michaël trazzi: 2\n",
      "jeremy gillen: 2\n",
      "jamesh: 2\n",
      "mark xu: 2\n",
      "tom lieberum: 2\n",
      "vikrant varma: 2\n",
      "lawrence chan: 2\n",
      "peter s. park: 2\n",
      "stephen fowler: 2\n",
      "chris_leong: 2\n",
      "daniel herrmann: 2\n",
      "ajeya cotra: 2\n",
      "jacob steinhardt: 2\n",
      "tor økland barstad: 2\n",
      "sam marks: 2\n",
      "hoagy: 2\n",
      "lennart heim: 2\n",
      "jan_kulveit: 2\n",
      "rob bensinger: 2\n",
      "jacques thibodeau: 2\n",
      "owain evans: 2\n",
      "yitzi litt: 2\n",
      "geoffrey irving: 2\n",
      "sidney hough: 2\n",
      "kevin liu: 2\n",
      "francis rhys ward: 2\n",
      "lauro langosco: 2\n",
      "jan leike: 2\n",
      "matthew \"vaniver\" graves: 2\n",
      "ruben bloom: 1\n",
      "oliver habryka: 1\n",
      "luke stebbing: 1\n",
      "justin_dan: 1\n",
      "goodgravy: 1\n",
      "beren millidge: 1\n",
      "crg: 1\n",
      "merizian: 1\n",
      "ericwinsor: 1\n",
      "dan braun: 1\n",
      "michael oesterle: 1\n",
      "leon lang: 1\n",
      "vanessa kosoy: 1\n",
      "matthias g. mayer: 1\n",
      "filip sondej: 1\n",
      "stephen casper: 1\n",
      "xuan (tan zhi xuan): 1\n",
      "jack parker: 1\n",
      "wyatt tessari l'allié: 1\n",
      "elifland: 1\n",
      "lawrence phillips: 1\n",
      "shariq hashme: 1\n",
      "zachary kenton: 1\n",
      "owen dudney: 1\n",
      "gunnar zarncke: 1\n",
      "artaxerxes: 1\n",
      "linda linsefors: 1\n",
      "mary phuong: 1\n",
      "fabien: 1\n",
      "nickyp: 1\n",
      "alex gray: 1\n",
      "tamera: 1\n",
      "viktoriamalyasova: 1\n",
      "chris scammell: 1\n",
      "andrea_miotti: 1\n",
      "roman leventov: 1\n",
      "arun jose: 1\n",
      "johannes treutlein: 1\n",
      "daphne_w: 1\n",
      "paul colognese: 1\n",
      "andrei alexandru: 1\n",
      "michaeleinhorn: 1\n",
      "adamgleave: 1\n",
      "scott emmons: 1\n",
      "claudia shi: 1\n",
      "adam scholl: 1\n",
      "maxra: 1\n",
      "jaspergeh: 1\n",
      "yannick_muehlhaeuser: 1\n",
      "michele campolo: 1\n",
      "megan kinniment: 1\n",
      "pablo villalobos: 1\n",
      "elandgre: 1\n",
      "oam patel: 1\n",
      "robert kirk: 1\n",
      "johannes c. mayer: 1\n",
      "jasonbrown: 1\n",
      "alyssa vance: 1\n",
      "nicholas schiefer: 1\n",
      "lovre: 1\n",
      "technicalities: 1\n",
      "kaj sotala: 1\n",
      "tomek korbak: 1\n",
      "adrià garriga-alonso: 1\n",
      "pablo antonio moreno casares: 1\n",
      "aniruddha nrusimha: 1\n",
      "tony barrett: 1\n",
      "rauno arike: 1\n",
      "justinshovelain: 1\n",
      "joar skalse: 1\n",
      "fabian schimpf: 1\n",
      "lukas fluri: 1\n",
      "nate thomas: 1\n",
      "mantas mazeika: 1\n",
      "william saunders: 1\n",
      "yonadav shavit: 1\n",
      "ryan kidd: 1\n",
      "victor warlop: 1\n",
      "aryeh englander: 1\n",
      "wei dai: 1\n",
      "joe_collman: 1\n",
      "lukas finnveden: 1\n",
      "veedrac: 1\n",
      "1a3orn: 1\n",
      "kevinrowang: 1\n",
      "thomas kehrenberg: 1\n",
      "joshuaoshickman: 1\n",
      "gwern: 1\n",
      "matthew barnett: 1\n",
      "derek shiller: 1\n",
      "defaultdict(<class 'int'>, {1: 90, 32: 1, 6: 9, 11: 1, 4: 15, 5: 11, 7: 3, 15: 2, 3: 18, 2: 40, 14: 1, 9: 2, 8: 2, 10: 2, 12: 1})\n"
     ]
    }
   ],
   "source": [
    "from collections import defaultdict\n",
    "author_counts = defaultdict(int)\n",
    "\n",
    "for authors_list in df['authors']:\n",
    "    authors = authors_list.split(',')\n",
    "    for author in authors:\n",
    "        author = author.lower().strip()\n",
    "        # print(f'author: \"{author}\"')\n",
    "        author_counts[author] += 1\n",
    "\n",
    "for k, v in sorted(author_counts.items(), key=lambda item: item[1], reverse=True):\n",
    "    print(f'{k}: {v}')\n",
    "\n",
    "post_counts = defaultdict(int)\n",
    "\n",
    "for author, count in author_counts.items():\n",
    "    post_counts[count] += 1\n",
    "\n",
    "print(post_counts)\n"
   ]
  },
  {
   "cell_type": "code",
   "execution_count": 147,
   "metadata": {},
   "outputs": [
    {
     "name": "stdout",
     "output_type": "stream",
     "text": [
      "authors with 32 posts published: 1\n",
      "authors with 15 posts published: 2\n",
      "authors with 14 posts published: 1\n",
      "authors with 12 posts published: 1\n",
      "authors with 11 posts published: 1\n",
      "authors with 10 posts published: 2\n",
      "authors with 9 posts published: 2\n",
      "authors with 8 posts published: 2\n",
      "authors with 7 posts published: 3\n",
      "authors with 6 posts published: 9\n",
      "authors with 5 posts published: 11\n",
      "authors with 4 posts published: 15\n",
      "authors with 3 posts published: 18\n",
      "authors with 2 posts published: 40\n",
      "authors with 1 posts published: 90\n",
      "popt: [2.32758051]\n",
      "total_posts: 214.18478382094895\n"
     ]
    },
    {
     "data": {
      "image/png": "[encoded data removed]",
      "text/plain": [
       "<Figure size 1008x576 with 1 Axes>"
      ]
     },
     "metadata": {
      "needs_background": "light"
     },
     "output_type": "display_data"
    }
   ],
   "source": [
    "fig, ax = plt.subplots(figsize=(14, 8))\n",
    "\n",
    "num_posts = [n for n in range(1, max(post_counts.keys()) + 1)]\n",
    "counts = [post_counts[n] if n in post_counts else 0 for n in num_posts]\n",
    "\n",
    "for k, v in sorted(post_counts.items(), key=lambda x: x[0], reverse=True):\n",
    "    print(f'authors with {k} posts published: {v}')\n",
    "\n",
    "ax.set_xlabel('Number of posts')\n",
    "ax.set_ylabel('Number of researchers')\n",
    "ax.bar(num_posts, counts)\n",
    "\n",
    "# Lotka's Law model:\n",
    "c = 80\n",
    "\n",
    "xdata = np.arange(1, 33)\n",
    "\n",
    "def f(x, e):\n",
    "    return (80 / xdata**e) * xdata\n",
    "\n",
    "popt, _ = curve_fit(f, xdata, counts)\n",
    "print('popt:', popt)\n",
    "\n",
    "ax.plot(xdata, f(xdata, *popt), 'r')\n",
    "\n",
    "total_posts = f(xdata, *popt).sum()\n",
    "print(f'total_posts: {total_posts}')\n"
   ]
  },
  {
   "cell_type": "code",
   "execution_count": 148,
   "metadata": {},
   "outputs": [
    {
     "data": {
      "text/plain": [
       "Text(80, 10, 'Two or more posts')"
      ]
     },
     "execution_count": 148,
     "metadata": {},
     "output_type": "execute_result"
    },
    {
     "data": {
      "image/png": "[encoded data removed]",
      "text/plain": [
       "<Figure size 1440x576 with 1 Axes>"
      ]
     },
     "metadata": {
      "needs_background": "light"
     },
     "output_type": "display_data"
    }
   ],
   "source": [
    "# plot researchers on the x-axis and number of posts on the y-axis\n",
    "\n",
    "fig, ax = plt.subplots(figsize=(20, 8))\n",
    "\n",
    "author_counts_sorted = sorted(author_counts.items(), key=lambda item: item[1], reverse=True)\n",
    "\n",
    "names = [t[0] for t in author_counts_sorted]\n",
    "post_counts = [t[1] for t in author_counts_sorted]\n",
    "\n",
    "# ax.bar(names[:10], post_counts[:10])\n",
    "\n",
    "ax.bar([i for i in range(len(names))], post_counts)\n",
    "# ax.set_xticks([])\n",
    "\n",
    "ax.axvline(x=197, color='green', linestyle='--')\n",
    "ax.text(168, 10, 'One or more post', color='green', fontsize=14)\n",
    "\n",
    "ax.axvline(x=108, color='red', linestyle='--')\n",
    "ax.text(80, 10, 'Two or more posts', color='red', fontsize=14)\n"
   ]
  },
  {
   "cell_type": "code",
   "execution_count": 149,
   "metadata": {},
   "outputs": [
    {
     "name": "stdout",
     "output_type": "stream",
     "text": [
      "num posts: 435\n",
      "num_researchers given: 1 posts per researcher: 435\n",
      "num_researchers given: 2 posts per researcher: 217\n",
      "num_researchers given: 3 posts per researcher: 145\n",
      "num_researchers given: 4 posts per researcher: 108\n",
      "num_researchers given: 5 posts per researcher: 87\n",
      "num_researchers given: 6 posts per researcher: 72\n"
     ]
    }
   ],
   "source": [
    "num_posts = len(df['titles'])\n",
    "print(f'num posts: {num_posts}')\n",
    "\n",
    "for n in range(1, 7):\n",
    "    num_researchers = num_posts // n\n",
    "    print(f'num_researchers given: {n} posts per researcher: {num_researchers}')\n"
   ]
  },
  {
   "cell_type": "code",
   "execution_count": 150,
   "metadata": {},
   "outputs": [],
   "source": [
    "# for k, v in sorted(author_counts.items(), key=lambda item: item[1], reverse=True):\n",
    "    # print(f'{k}: {v}')\n",
    "\n",
    "names = [t[0] for t in author_counts_sorted]\n",
    "post_counts = [t[1] for t in author_counts_sorted]\n",
    "\n",
    "df = pd.DataFrame({\n",
    "    'authors': names, \n",
    "    'counts': post_counts\n",
    "})\n",
    "\n",
    "df.to_csv('alignment-forum-ai-authors.csv')\n"
   ]
  }
 ],
 "metadata": {
  "interpreter": {
   "hash": "916dbcbb3f70747c44a77c7bcd40155683ae19c65e1c03b4aa3499c5328201f1"
  },
  "kernelspec": {
   "display_name": "Python 3.8.10 64-bit",
   "language": "python",
   "name": "python3"
  },
  "language_info": {
   "codemirror_mode": {
    "name": "ipython",
    "version": 3
   },
   "file_extension": ".py",
   "mimetype": "text/x-python",
   "name": "python",
   "nbconvert_exporter": "python",
   "pygments_lexer": "ipython3",
   "version": "3.8.10"
  },
  "orig_nbformat": 4
 },
 "nbformat": 4,
 "nbformat_minor": 2
}

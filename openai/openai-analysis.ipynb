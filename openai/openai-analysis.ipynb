{
 "cells": [
  {
   "cell_type": "code",
   "execution_count": 24,
   "metadata": {},
   "outputs": [],
   "source": [
    "import pandas as pd\n",
    "df = pd.read_csv('openai-safety-papers-with-authors.csv')"
   ]
  },
  {
   "cell_type": "markdown",
   "metadata": {},
   "source": [
    "Find the total number of unique authors of all the papers and the total number when only the top 5 authors are included:"
   ]
  },
  {
   "cell_type": "code",
   "execution_count": 25,
   "metadata": {},
   "outputs": [
    {
     "name": "stdout",
     "output_type": "stream",
     "text": [
      "Total number of unique authors: 146\n",
      "Total number of unique authors only including the top 5 authors: 56\n"
     ]
    }
   ],
   "source": [
    "all_authors = df['authors']\n",
    "unique_authors = set()\n",
    "unique_authors_top_5 = set()\n",
    "\n",
    "for author_string in all_authors:\n",
    "    authors = author_string.split(', ')\n",
    "    top_5_authors = authors[:5]\n",
    "    unique_authors.update(set(authors))\n",
    "    unique_authors_top_5.update(set(top_5_authors))\n",
    "\n",
    "print('Total number of unique authors:', len(unique_authors))\n",
    "print('Total number of unique authors only including the top 5 authors:', len(unique_authors_top_5))"
   ]
  },
  {
   "cell_type": "markdown",
   "metadata": {},
   "source": [
    "Authors on 2 or more papers:"
   ]
  },
  {
   "cell_type": "code",
   "execution_count": 26,
   "metadata": {},
   "outputs": [
    {
     "name": "stdout",
     "output_type": "stream",
     "text": [
      "Number of authors on two or more papers: 33\n"
     ]
    }
   ],
   "source": [
    "from collections import defaultdict\n",
    "\n",
    "all_authors = df['authors']\n",
    "paper_count = defaultdict(int)\n",
    "\n",
    "for author_string in all_authors:\n",
    "    authors = author_string.split(', ')\n",
    "    for author in authors:\n",
    "        paper_count[author] += 1\n",
    "\n",
    "selected_authors = [x for x in paper_count.items() if x[1] >= 2]\n",
    "print('Number of authors on two or more papers:', len(selected_authors))"
   ]
  },
  {
   "cell_type": "markdown",
   "metadata": {},
   "source": [
    "Authors on 3 or more papers:"
   ]
  },
  {
   "cell_type": "code",
   "execution_count": 27,
   "metadata": {},
   "outputs": [
    {
     "name": "stdout",
     "output_type": "stream",
     "text": [
      "Number of authors on three or more papers: 15\n"
     ]
    }
   ],
   "source": [
    "selected_authors = [x for x in paper_count.items() if x[1] >= 3]\n",
    "print('Number of authors on three or more papers:', len(selected_authors))"
   ]
  },
  {
   "cell_type": "markdown",
   "metadata": {},
   "source": [
    "Authors on 4 or more papers:"
   ]
  },
  {
   "cell_type": "code",
   "execution_count": 28,
   "metadata": {},
   "outputs": [
    {
     "name": "stdout",
     "output_type": "stream",
     "text": [
      "Number of authors on four or more papers: 8\n"
     ]
    }
   ],
   "source": [
    "selected_authors = [x for x in paper_count.items() if x[1] >= 4]\n",
    "print('Number of authors on four or more papers:', len(selected_authors))"
   ]
  }
 ],
 "metadata": {
  "interpreter": {
   "hash": "916dbcbb3f70747c44a77c7bcd40155683ae19c65e1c03b4aa3499c5328201f1"
  },
  "kernelspec": {
   "display_name": "Python 3.8.10 64-bit",
   "language": "python",
   "name": "python3"
  },
  "language_info": {
   "codemirror_mode": {
    "name": "ipython",
    "version": 3
   },
   "file_extension": ".py",
   "mimetype": "text/x-python",
   "name": "python",
   "nbconvert_exporter": "python",
   "pygments_lexer": "ipython3",
   "version": "3.8.10"
  },
  "orig_nbformat": 4
 },
 "nbformat": 4,
 "nbformat_minor": 2
}

{
 "cells": [
  {
   "cell_type": "code",
   "execution_count": 21,
   "metadata": {},
   "outputs": [],
   "source": [
    "import pandas as pd\n",
    "df = pd.read_csv('openai-papers-and-authors-classified.csv')"
   ]
  },
  {
   "cell_type": "markdown",
   "metadata": {},
   "source": [
    "Get only the AI safety papers:"
   ]
  },
  {
   "cell_type": "code",
   "execution_count": 22,
   "metadata": {},
   "outputs": [
    {
     "data": {
      "text/html": [
       "<div>\n",
       "<style scoped>\n",
       "    .dataframe tbody tr th:only-of-type {\n",
       "        vertical-align: middle;\n",
       "    }\n",
       "\n",
       "    .dataframe tbody tr th {\n",
       "        vertical-align: top;\n",
       "    }\n",
       "\n",
       "    .dataframe thead th {\n",
       "        text-align: right;\n",
       "    }\n",
       "</style>\n",
       "<table border=\"1\" class=\"dataframe\">\n",
       "  <thead>\n",
       "    <tr style=\"text-align: right;\">\n",
       "      <th></th>\n",
       "      <th>id</th>\n",
       "      <th>titles</th>\n",
       "      <th>is_safety_paper</th>\n",
       "      <th>authors</th>\n",
       "    </tr>\n",
       "  </thead>\n",
       "  <tbody>\n",
       "    <tr>\n",
       "      <th>2</th>\n",
       "      <td>2</td>\n",
       "      <td>Training language models to follow\\ninstructio...</td>\n",
       "      <td>yes</td>\n",
       "      <td>Long Ouyang, Jeff Wu, Xu Jiang, Diogo Almeida,...</td>\n",
       "    </tr>\n",
       "    <tr>\n",
       "      <th>4</th>\n",
       "      <td>4</td>\n",
       "      <td>WebGPT: Browser-assisted question-\\nanswering ...</td>\n",
       "      <td>yes</td>\n",
       "      <td>Reiichiro Nakano, Jacob Hilton, Suchir Balaji,...</td>\n",
       "    </tr>\n",
       "    <tr>\n",
       "      <th>6</th>\n",
       "      <td>6</td>\n",
       "      <td>Recursively Summarizing Books with Human Feedback</td>\n",
       "      <td>yes</td>\n",
       "      <td>Jeff Wu, Long Ouyang, Daniel M. Ziegler, Nisan...</td>\n",
       "    </tr>\n",
       "    <tr>\n",
       "      <th>8</th>\n",
       "      <td>8</td>\n",
       "      <td>Process for Adapting Language Models to\\nSocie...</td>\n",
       "      <td>yes</td>\n",
       "      <td>Irene Solaiman, Christy Dennison</td>\n",
       "    </tr>\n",
       "    <tr>\n",
       "      <th>12</th>\n",
       "      <td>12</td>\n",
       "      <td>Understanding the Capabilities, Limitations,\\n...</td>\n",
       "      <td>yes</td>\n",
       "      <td>Alex Tamkin, Miles Brundage, Jack Clark, Deep ...</td>\n",
       "    </tr>\n",
       "  </tbody>\n",
       "</table>\n",
       "</div>"
      ],
      "text/plain": [
       "    id                                             titles is_safety_paper  \\\n",
       "2    2  Training language models to follow\\ninstructio...             yes   \n",
       "4    4  WebGPT: Browser-assisted question-\\nanswering ...             yes   \n",
       "6    6  Recursively Summarizing Books with Human Feedback             yes   \n",
       "8    8  Process for Adapting Language Models to\\nSocie...             yes   \n",
       "12  12  Understanding the Capabilities, Limitations,\\n...             yes   \n",
       "\n",
       "                                              authors  \n",
       "2   Long Ouyang, Jeff Wu, Xu Jiang, Diogo Almeida,...  \n",
       "4   Reiichiro Nakano, Jacob Hilton, Suchir Balaji,...  \n",
       "6   Jeff Wu, Long Ouyang, Daniel M. Ziegler, Nisan...  \n",
       "8                    Irene Solaiman, Christy Dennison  \n",
       "12  Alex Tamkin, Miles Brundage, Jack Clark, Deep ...  "
      ]
     },
     "execution_count": 22,
     "metadata": {},
     "output_type": "execute_result"
    }
   ],
   "source": [
    "df = df[df['is_safety_paper'] == 'yes']\n",
    "df.head()"
   ]
  },
  {
   "cell_type": "markdown",
   "metadata": {},
   "source": [
    "Find the total number of unique authors of all the papers and the total number when only the top 5 authors are included:"
   ]
  },
  {
   "cell_type": "code",
   "execution_count": 23,
   "metadata": {},
   "outputs": [
    {
     "name": "stdout",
     "output_type": "stream",
     "text": [
      "Total number of unique authors: 146\n",
      "Total number of unique authors only including the top 5 authors: 56\n"
     ]
    }
   ],
   "source": [
    "all_authors = df['authors']\n",
    "unique_authors = set()\n",
    "unique_authors_top_5 = set()\n",
    "\n",
    "for author_string in all_authors:\n",
    "    authors = author_string.split(', ')\n",
    "    top_5_authors = authors[:5]\n",
    "    unique_authors.update(set(authors))\n",
    "    unique_authors_top_5.update(set(top_5_authors))\n",
    "\n",
    "print('Total number of unique authors:', len(unique_authors))\n",
    "print('Total number of unique authors only including the top 5 authors:', len(unique_authors_top_5))"
   ]
  },
  {
   "cell_type": "markdown",
   "metadata": {},
   "source": [
    "Authors on 2 or more papers:"
   ]
  },
  {
   "cell_type": "code",
   "execution_count": 24,
   "metadata": {},
   "outputs": [
    {
     "name": "stdout",
     "output_type": "stream",
     "text": [
      "Number of authors on two or more papers: 37\n"
     ]
    }
   ],
   "source": [
    "from collections import defaultdict\n",
    "\n",
    "all_authors = df['authors']\n",
    "paper_count = defaultdict(int)\n",
    "\n",
    "for author_string in all_authors:\n",
    "    authors = author_string.split(', ')\n",
    "    for author in authors:\n",
    "        paper_count[author] += 1\n",
    "\n",
    "selected_authors = [x for x in paper_count.items() if x[1] >= 2]\n",
    "print('Number of authors on two or more papers:', len(selected_authors))\n"
   ]
  },
  {
   "cell_type": "markdown",
   "metadata": {},
   "source": [
    "Authors on 3 or more papers:"
   ]
  },
  {
   "cell_type": "code",
   "execution_count": 25,
   "metadata": {},
   "outputs": [
    {
     "name": "stdout",
     "output_type": "stream",
     "text": [
      "Number of authors on three or more papers: 15\n"
     ]
    }
   ],
   "source": [
    "selected_authors = [x for x in paper_count.items() if x[1] >= 3]\n",
    "print('Number of authors on three or more papers:', len(selected_authors))"
   ]
  },
  {
   "cell_type": "markdown",
   "metadata": {},
   "source": [
    "Authors on 4 or more papers:"
   ]
  },
  {
   "cell_type": "code",
   "execution_count": 26,
   "metadata": {},
   "outputs": [
    {
     "name": "stdout",
     "output_type": "stream",
     "text": [
      "Number of authors on four or more papers: 9\n"
     ]
    }
   ],
   "source": [
    "selected_authors = [x for x in paper_count.items() if x[1] >= 4]\n",
    "print('Number of authors on four or more papers:', len(selected_authors))"
   ]
  }
 ],
 "metadata": {
  "interpreter": {
   "hash": "916dbcbb3f70747c44a77c7bcd40155683ae19c65e1c03b4aa3499c5328201f1"
  },
  "kernelspec": {
   "display_name": "Python 3.8.10 64-bit",
   "language": "python",
   "name": "python3"
  },
  "language_info": {
   "codemirror_mode": {
    "name": "ipython",
    "version": 3
   },
   "file_extension": ".py",
   "mimetype": "text/x-python",
   "name": "python",
   "nbconvert_exporter": "python",
   "pygments_lexer": "ipython3",
   "version": "3.8.10"
  },
  "orig_nbformat": 4
 },
 "nbformat": 4,
 "nbformat_minor": 2
}
